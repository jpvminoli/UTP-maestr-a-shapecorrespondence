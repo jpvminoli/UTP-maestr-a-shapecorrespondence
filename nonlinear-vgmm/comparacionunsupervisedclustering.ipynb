{
 "metadata": {
  "language_info": {
   "codemirror_mode": {
    "name": "ipython",
    "version": 3
   },
   "file_extension": ".py",
   "mimetype": "text/x-python",
   "name": "python",
   "nbconvert_exporter": "python",
   "pygments_lexer": "ipython3",
   "version": "3.8.3-final"
  },
  "orig_nbformat": 2,
  "kernelspec": {
   "name": "python3",
   "display_name": "Python 3.8.3 64-bit",
   "metadata": {
    "interpreter": {
     "hash": "396323626e3fd959b7ba9bb8ed0f1ad909e564c45be75a0e7a4ac9e193ccf38c"
    }
   }
  }
 },
 "nbformat": 4,
 "nbformat_minor": 2,
 "cells": [
  {
   "cell_type": "code",
   "execution_count": 1,
   "metadata": {},
   "outputs": [],
   "source": [
    "import numpy as np\n",
    "import matplotlib.pyplot as plt\n",
    "import os,fnmatch"
   ]
  },
  {
   "cell_type": "code",
   "execution_count": 7,
   "metadata": {},
   "outputs": [
    {
     "output_type": "stream",
     "name": "stdout",
     "text": [
      "File: cat0-cat1.txt\nFile: cat0-cat10.txt\nFile: cat0-cat2.txt\nFile: cat0-cat3.txt\nFile: cat0-cat4.txt\nFile: cat0-cat5.txt\nFile: cat0-cat6.txt\nFile: cat0-cat7.txt\nFile: cat0-cat8.txt\nFile: cat0-cat9.txt\nFile: centaur0-centaur1.txt\nFile: centaur0-centaur2.txt\nFile: centaur0-centaur3.txt\nFile: centaur0-centaur4.txt\nFile: centaur0-centaur5.txt\nFile: david0-david1.txt\nFile: david0-david10.txt\nFile: david0-david11.txt\nFile: david0-david12.txt\nFile: david0-david13.txt\nFile: david0-david6.txt\nFile: dog0-dog1.txt\nFile: dog0-dog10.txt\nFile: dog0-dog2.txt\nFile: dog0-dog3.txt\nFile: dog0-dog5.txt\nFile: dog0-dog6.txt\nFile: dog0-dog7.txt\nFile: dog0-dog8.txt\nFile: horse0-horse10.txt\nFile: horse0-horse14.txt\nFile: horse0-horse15.txt\nFile: horse0-horse17.txt\nFile: horse0-horse5.txt\nFile: horse0-horse6.txt\nFile: horse0-horse7.txt\nFile: michael0-michael1.txt\nFile: michael0-michael10.txt\nFile: michael0-michael11.txt\nFile: michael0-michael12.txt\nFile: michael0-michael13.txt\nFile: michael0-michael14.txt\nFile: michael0-michael15.txt\nFile: michael0-michael16.txt\nFile: michael0-michael17.txt\nFile: michael0-michael18.txt\nFile: michael0-michael19.txt\nFile: michael0-michael2.txt\nFile: michael0-michael3.txt\nFile: michael0-michael4.txt\nFile: michael0-michael5.txt\nFile: michael0-michael6.txt\nFile: michael0-michael7.txt\nFile: michael0-michael8.txt\nFile: michael0-michael9.txt\nFile: victoria0-victoria1.txt\nFile: victoria0-victoria10.txt\nFile: victoria0-victoria12.txt\nFile: victoria0-victoria17.txt\nFile: victoria0-victoria2.txt\nFile: victoria0-victoria21.txt\nFile: victoria0-victoria23.txt\nFile: victoria0-victoria24.txt\nFile: victoria0-victoria25.txt\nFile: victoria0-victoria4.txt\nFile: victoria0-victoria7.txt\nFile: wolf0-wolf1.txt\nFile: wolf0-wolf2.txt\n"
     ]
    }
   ],
   "source": [
    "ruta='resultsgmm-nolineal/randscore-tosca/'\n",
    "files=os.listdir(ruta)\n",
    "lenfiles=len(files)\n",
    "pattern='*.txt'\n",
    "\n",
    "allmetrics=[]\n",
    "for fi in files:\n",
    "    if fnmatch.fnmatch(fi, pattern):\n",
    "        print('File:',fi)\n",
    "        metrics = np.loadtxt(ruta+fi, dtype=float)\n",
    "        allmetrics.append(list(metrics))\n",
    "allmetrics=np.array(allmetrics)"
   ]
  },
  {
   "cell_type": "code",
   "execution_count": 11,
   "metadata": {},
   "outputs": [
    {
     "output_type": "stream",
     "name": "stdout",
     "text": [
      "ars,rs\nMedia: [0.91009612 0.97768557]\nStd: [0.05182096 0.01314799]\n"
     ]
    }
   ],
   "source": [
    "media=np.mean(allmetrics,axis=0)\n",
    "std=np.std(allmetrics,axis=0)\n",
    "print('ars,rs')\n",
    "print('Media:',media)\n",
    "print('Std:',std)"
   ]
  },
  {
   "cell_type": "code",
   "execution_count": null,
   "metadata": {},
   "outputs": [],
   "source": []
  }
 ]
}