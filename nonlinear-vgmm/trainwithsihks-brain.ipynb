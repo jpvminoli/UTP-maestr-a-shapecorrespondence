{
 "metadata": {
  "language_info": {
   "codemirror_mode": {
    "name": "ipython",
    "version": 3
   },
   "file_extension": ".py",
   "mimetype": "text/x-python",
   "name": "python",
   "nbconvert_exporter": "python",
   "pygments_lexer": "ipython3",
   "version": "3.8.3"
  },
  "orig_nbformat": 2,
  "kernelspec": {
   "name": "python3",
   "display_name": "Python 3.8.3 64-bit"
  },
  "interpreter": {
   "hash": "396323626e3fd959b7ba9bb8ed0f1ad909e564c45be75a0e7a4ac9e193ccf38c"
  }
 },
 "nbformat": 4,
 "nbformat_minor": 2,
 "cells": [
  {
   "cell_type": "code",
   "execution_count": 1,
   "source": [
    "import numpy as np\r\n",
    "import matplotlib.pyplot as plt\r\n",
    "import library.volumes.strmesh as vol\r\n",
    "import scipy.io as sio\r\n",
    "from sklearn.pipeline import Pipeline\r\n",
    "from sklearn.kernel_approximation import RBFSampler\r\n",
    "from sklearn import mixture\r\n",
    "import open3d as o3d\r\n",
    "\r\n",
    "nolineal=1\r\n",
    "xfilename='data/curvature/'\r\n",
    "structure='-43-Right-Lateral-Ventricle'#'-2-Left-Cerebral-White-Matter'\r\n",
    "surface1='sano-1'+structure\r\n",
    "surface2='mv-1'+structure\r\n",
    "components=4\r\n",
    "montecarlo=200\r\n",
    "gamma=0.01"
   ],
   "outputs": [],
   "metadata": {}
  },
  {
   "cell_type": "code",
   "execution_count": 2,
   "source": [
    "filename=xfilename+surface1+'-'+surface2+'.mat'\r\n",
    "info=sio.whosmat(filename)[0]\r\n",
    "mat=sio.loadmat(filename)\r\n",
    "X=mat[info[0]]"
   ],
   "outputs": [],
   "metadata": {}
  },
  {
   "cell_type": "code",
   "execution_count": 3,
   "source": [
    "#Dir data\r\n",
    "base='data/brain/'\r\n",
    "data=surface1+'.mat'\r\n",
    "mesh1=vol.StrMesh(filename=base+data)"
   ],
   "outputs": [
    {
     "output_type": "stream",
     "name": "stdout",
     "text": [
      "!Mesh load complete!\n",
      "Vertices: 2100\n",
      "Triangles: 4196\n"
     ]
    }
   ],
   "metadata": {}
  },
  {
   "cell_type": "code",
   "execution_count": 4,
   "source": [
    "base='data/brain/'\r\n",
    "data=surface2+'.mat'\r\n",
    "mesh2=vol.StrMesh(filename=base+data)"
   ],
   "outputs": [
    {
     "output_type": "stream",
     "name": "stdout",
     "text": [
      "!Mesh load complete!\n",
      "Vertices: 2433\n",
      "Triangles: 4862\n"
     ]
    }
   ],
   "metadata": {}
  },
  {
   "cell_type": "code",
   "execution_count": 5,
   "source": [
    "if nolineal==1:\r\n",
    "    #gmm-no lineal\r\n",
    "    steps = [('rff', RBFSampler(gamma=gamma,n_components=montecarlo,random_state=48)), \r\n",
    "            ('cluster', mixture.BayesianGaussianMixture(n_components=components, random_state=48))] #clasificador \r\n",
    "    method = Pipeline(steps)\r\n",
    "else:\r\n",
    "    #gmm lineal\r\n",
    "    steps = [ ('cluster', mixture.BayesianGaussianMixture(n_components=components, random_state=48))] #clasificador \r\n",
    "    method = Pipeline(steps) "
   ],
   "outputs": [],
   "metadata": {}
  },
  {
   "cell_type": "code",
   "execution_count": 6,
   "source": [
    "method.fit(X)\r\n",
    "Z=method.predict(X)"
   ],
   "outputs": [],
   "metadata": {}
  },
  {
   "cell_type": "code",
   "execution_count": null,
   "source": [
    "tam1=mesh1.vertices.shape[0]\r\n",
    "tam2=mesh2.vertices.shape[0]\r\n",
    "Z1=Z[0:tam1]\r\n",
    "Z2=Z[tam1:]\r\n",
    "mdic={'Z1':Z1,'Z2':Z2}\r\n",
    "savedir='D:\\MaestriaLocal\\shapecorrespondence\\Data\\labels'\r\n",
    "sio.savemat(savedir+'\\label-'+surface1+'-'+surface2+'.mat', mdic)"
   ],
   "outputs": [],
   "metadata": {}
  },
  {
   "cell_type": "code",
   "execution_count": null,
   "source": [],
   "outputs": [],
   "metadata": {}
  }
 ]
}