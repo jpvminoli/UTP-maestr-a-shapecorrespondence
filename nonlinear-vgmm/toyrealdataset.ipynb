{
 "metadata": {
  "language_info": {
   "codemirror_mode": {
    "name": "ipython",
    "version": 3
   },
   "file_extension": ".py",
   "mimetype": "text/x-python",
   "name": "python",
   "nbconvert_exporter": "python",
   "pygments_lexer": "ipython3",
   "version": "3.8.3-final"
  },
  "orig_nbformat": 2,
  "kernelspec": {
   "name": "python3",
   "display_name": "Python 3.8.3 64-bit",
   "metadata": {
    "interpreter": {
     "hash": "396323626e3fd959b7ba9bb8ed0f1ad909e564c45be75a0e7a4ac9e193ccf38c"
    }
   }
  }
 },
 "nbformat": 4,
 "nbformat_minor": 2,
 "cells": [
  {
   "cell_type": "code",
   "execution_count": 1,
   "metadata": {},
   "outputs": [],
   "source": [
    "import numpy as np\n",
    "import matplotlib.pyplot as plt\n",
    "from sklearn.pipeline import Pipeline\n",
    "from sklearn.kernel_approximation import RBFSampler\n",
    "from sklearn import mixture\n",
    "from sklearn.datasets import load_digits\n",
    "from sklearn.metrics.cluster import adjusted_rand_score\n",
    "from sklearn.model_selection import train_test_split\n",
    "from sklearn.metrics import make_scorer\n",
    "from sklearn.model_selection import GridSearchCV\n",
    "from sklearn.datasets import fetch_openml"
   ]
  },
  {
   "cell_type": "code",
   "execution_count": 5,
   "metadata": {},
   "outputs": [],
   "source": [
    "#MNIST\n",
    "digits = fetch_openml('mnist_784')\n",
    "X=digits.data\n",
    "y=digits.target"
   ]
  },
  {
   "cell_type": "code",
   "execution_count": 6,
   "metadata": {},
   "outputs": [
    {
     "output_type": "stream",
     "name": "stdout",
     "text": [
      "Shape: (3500, 784)\ncomponents: 10\n"
     ]
    }
   ],
   "source": [
    "X_train, X, y_train, y = train_test_split(X,y,test_size=0.05, stratify=y)\n",
    "components=np.unique(y).shape[0]\n",
    "print('Shape:',X.shape)\n",
    "print('components:',components)"
   ]
  },
  {
   "cell_type": "code",
   "execution_count": 7,
   "metadata": {},
   "outputs": [],
   "source": [
    "montecarlo=200\n",
    "gamma=0.01\n",
    "steps = [('rff', RBFSampler(gamma=gamma,n_components=montecarlo,random_state=48)), \n",
    "            ('cluster', mixture.BayesianGaussianMixture(n_components=components,random_state=48))] #clasificador \n",
    "parameters ={'rff__gamma':[1e-8,1e-6,1e-3,1e-2,1,2],\n",
    "             'rff__n_components':np.arange(1000,2000,200)\n",
    "             }\n",
    "method = Pipeline(steps)"
   ]
  },
  {
   "cell_type": "code",
   "execution_count": 8,
   "metadata": {},
   "outputs": [
    {
     "output_type": "stream",
     "name": "stdout",
     "text": [
      "Fitting 3 folds for each of 30 candidates, totalling 90 fits\n",
      "[Parallel(n_jobs=4)]: Using backend LokyBackend with 4 concurrent workers.\n",
      "[Parallel(n_jobs=4)]: Done   5 tasks      | elapsed:  2.0min\n",
      "[Parallel(n_jobs=4)]: Done  10 tasks      | elapsed:  3.8min\n",
      "[Parallel(n_jobs=4)]: Done  17 tasks      | elapsed:  6.3min\n",
      "[Parallel(n_jobs=4)]: Done  24 tasks      | elapsed:  8.6min\n",
      "[Parallel(n_jobs=4)]: Done  33 tasks      | elapsed: 11.9min\n",
      "[Parallel(n_jobs=4)]: Done  42 tasks      | elapsed: 15.9min\n",
      "[Parallel(n_jobs=4)]: Done  53 tasks      | elapsed: 19.4min\n",
      "[Parallel(n_jobs=4)]: Done  64 tasks      | elapsed: 23.6min\n",
      "[Parallel(n_jobs=4)]: Done  77 tasks      | elapsed: 28.4min\n",
      "[Parallel(n_jobs=4)]: Done  90 out of  90 | elapsed: 33.4min finished\n",
      "Fitting 3 folds for each of 30 candidates, totalling 90 fits\n",
      "[Parallel(n_jobs=4)]: Using backend LokyBackend with 4 concurrent workers.\n",
      "[Parallel(n_jobs=4)]: Done   5 tasks      | elapsed:  1.9min\n",
      "[Parallel(n_jobs=4)]: Done  10 tasks      | elapsed:  3.7min\n",
      "[Parallel(n_jobs=4)]: Done  17 tasks      | elapsed:  6.1min\n",
      "[Parallel(n_jobs=4)]: Done  24 tasks      | elapsed:  8.4min\n",
      "[Parallel(n_jobs=4)]: Done  33 tasks      | elapsed: 12.0min\n",
      "[Parallel(n_jobs=4)]: Done  42 tasks      | elapsed: 15.5min\n",
      "[Parallel(n_jobs=4)]: Done  53 tasks      | elapsed: 19.4min\n",
      "[Parallel(n_jobs=4)]: Done  64 tasks      | elapsed: 23.5min\n",
      "[Parallel(n_jobs=4)]: Done  77 tasks      | elapsed: 28.2min\n",
      "[Parallel(n_jobs=4)]: Done  90 out of  90 | elapsed: 33.3min finished\n",
      "Fitting 3 folds for each of 30 candidates, totalling 90 fits\n",
      "[Parallel(n_jobs=4)]: Using backend LokyBackend with 4 concurrent workers.\n",
      "[Parallel(n_jobs=4)]: Done   5 tasks      | elapsed:  1.8min\n",
      "[Parallel(n_jobs=4)]: Done  10 tasks      | elapsed:  3.7min\n",
      "[Parallel(n_jobs=4)]: Done  17 tasks      | elapsed:  6.1min\n",
      "[Parallel(n_jobs=4)]: Done  24 tasks      | elapsed:  8.5min\n",
      "[Parallel(n_jobs=4)]: Done  33 tasks      | elapsed: 12.0min\n",
      "[Parallel(n_jobs=4)]: Done  42 tasks      | elapsed: 15.5min\n",
      "[Parallel(n_jobs=4)]: Done  53 tasks      | elapsed: 18.9min\n",
      "[Parallel(n_jobs=4)]: Done  64 tasks      | elapsed: 23.3min\n",
      "[Parallel(n_jobs=4)]: Done  77 tasks      | elapsed: 27.8min\n",
      "[Parallel(n_jobs=4)]: Done  90 out of  90 | elapsed: 33.0min finished\n",
      "Fitting 3 folds for each of 30 candidates, totalling 90 fits\n",
      "[Parallel(n_jobs=4)]: Using backend LokyBackend with 4 concurrent workers.\n",
      "[Parallel(n_jobs=4)]: Done   5 tasks      | elapsed:  1.8min\n",
      "[Parallel(n_jobs=4)]: Done  10 tasks      | elapsed:  3.7min\n",
      "[Parallel(n_jobs=4)]: Done  17 tasks      | elapsed:  6.0min\n",
      "[Parallel(n_jobs=4)]: Done  24 tasks      | elapsed:  8.5min\n",
      "[Parallel(n_jobs=4)]: Done  33 tasks      | elapsed: 11.7min\n",
      "[Parallel(n_jobs=4)]: Done  42 tasks      | elapsed: 15.4min\n",
      "[Parallel(n_jobs=4)]: Done  53 tasks      | elapsed: 18.9min\n",
      "[Parallel(n_jobs=4)]: Done  64 tasks      | elapsed: 23.2min\n",
      "[Parallel(n_jobs=4)]: Done  77 tasks      | elapsed: 27.6min\n",
      "[Parallel(n_jobs=4)]: Done  90 out of  90 | elapsed: 31.8min finished\n",
      "Fitting 3 folds for each of 30 candidates, totalling 90 fits\n",
      "[Parallel(n_jobs=4)]: Using backend LokyBackend with 4 concurrent workers.\n",
      "[Parallel(n_jobs=4)]: Done   5 tasks      | elapsed:  1.5min\n",
      "[Parallel(n_jobs=4)]: Done  10 tasks      | elapsed:  3.0min\n",
      "[Parallel(n_jobs=4)]: Done  17 tasks      | elapsed:  5.0min\n",
      "[Parallel(n_jobs=4)]: Done  24 tasks      | elapsed:  7.0min\n",
      "[Parallel(n_jobs=4)]: Done  33 tasks      | elapsed:  9.8min\n",
      "[Parallel(n_jobs=4)]: Done  42 tasks      | elapsed: 12.7min\n",
      "[Parallel(n_jobs=4)]: Done  53 tasks      | elapsed: 15.8min\n",
      "[Parallel(n_jobs=4)]: Done  64 tasks      | elapsed: 19.2min\n",
      "[Parallel(n_jobs=4)]: Done  77 tasks      | elapsed: 23.2min\n",
      "[Parallel(n_jobs=4)]: Done  90 out of  90 | elapsed: 27.4min finished\n"
     ]
    }
   ],
   "source": [
    "grid_adjusted_rand_score=make_scorer(adjusted_rand_score)\n",
    "Niter = 5 #numero particiones\n",
    "adrs =np.zeros(Niter)#arreglo para guardar acierto\n",
    "best_estimators = []#mejor metodo por iteracion\n",
    "best_parameters = []#mejor metodo por iteracion\n",
    "for j in range(Niter):\n",
    "    X_train, X_test, y_train, y_test = train_test_split(X,y,test_size=0.2, stratify=y)\n",
    "    grid_search = GridSearchCV(method, parameters,cv=3,verbose=10,scoring=grid_adjusted_rand_score,n_jobs=4)\n",
    "    \n",
    "    grid_search.fit(X_train,y_train)\n",
    "    \n",
    "    y_pred = grid_search.best_estimator_.predict(X_test)\n",
    "    \n",
    "    best_estimators.append(grid_search.best_estimator_)\n",
    "    best_parameters.append(grid_search.best_params_)\n",
    "\n",
    "    adrs[j]=adjusted_rand_score(y_pred, y_test)"
   ]
  },
  {
   "cell_type": "code",
   "execution_count": 9,
   "metadata": {},
   "outputs": [
    {
     "output_type": "stream",
     "name": "stdout",
     "text": [
      "MNIST Adjusted rand score:0.27820684493257436+-0.052595081153130135\n"
     ]
    }
   ],
   "source": [
    "me=np.mean(adrs)\n",
    "std=np.std(adrs)\n",
    "print('MNIST Adjusted rand score:'+str(me)+'+-'+str(std))"
   ]
  },
  {
   "cell_type": "code",
   "execution_count": 2,
   "metadata": {},
   "outputs": [
    {
     "output_type": "stream",
     "name": "stdout",
     "text": [
      "Shape: (214, 9)\n",
      "components: 6\n",
      "C:\\Users\\minol\\AppData\\Local\\Programs\\Python\\Python38\\lib\\site-packages\\sklearn\\datasets\\_openml.py:373: UserWarning: Multiple active versions of the dataset matching the name glass exist. Versions may be fundamentally different, returning version 1.\n",
      "  warn(\"Multiple active versions of the dataset matching the name\"\n"
     ]
    }
   ],
   "source": [
    "#GLASS\n",
    "glass = fetch_openml('glass')\n",
    "X=glass.data\n",
    "y=glass.target\n",
    "components=np.unique(y).shape[0]\n",
    "print('Shape:',X.shape)\n",
    "print('components:',components)"
   ]
  },
  {
   "cell_type": "code",
   "execution_count": 3,
   "metadata": {},
   "outputs": [],
   "source": [
    "montecarlo=200\n",
    "gamma=0.01\n",
    "steps = [('rff', RBFSampler(gamma=gamma,n_components=montecarlo,random_state=48)), \n",
    "            ('cluster', mixture.BayesianGaussianMixture(n_components=components,random_state=48))] #clasificador \n",
    "parameters ={'rff__gamma':[1e-8,1e-6,1e-3,1e-2,1,2],\n",
    "             'rff__n_components':np.arange(2,1202,200)\n",
    "             }\n",
    "method = Pipeline(steps)"
   ]
  },
  {
   "cell_type": "code",
   "execution_count": 4,
   "metadata": {},
   "outputs": [
    {
     "output_type": "stream",
     "name": "stdout",
     "text": [
      "Fitting 3 folds for each of 36 candidates, totalling 108 fits\n",
      "[Parallel(n_jobs=4)]: Using backend LokyBackend with 4 concurrent workers.\n",
      "[Parallel(n_jobs=4)]: Done   5 tasks      | elapsed:    4.0s\n",
      "[Parallel(n_jobs=4)]: Done  10 tasks      | elapsed:   38.3s\n",
      "[Parallel(n_jobs=4)]: Done  17 tasks      | elapsed:  1.9min\n",
      "[Parallel(n_jobs=4)]: Done  24 tasks      | elapsed:  2.6min\n",
      "[Parallel(n_jobs=4)]: Done  33 tasks      | elapsed:  4.5min\n",
      "[Parallel(n_jobs=4)]: Done  42 tasks      | elapsed:  4.9min\n",
      "[Parallel(n_jobs=4)]: Done  53 tasks      | elapsed:  6.1min\n",
      "[Parallel(n_jobs=4)]: Done  64 tasks      | elapsed:  6.3min\n",
      "[Parallel(n_jobs=4)]: Done  77 tasks      | elapsed:  6.4min\n",
      "[Parallel(n_jobs=4)]: Done  90 tasks      | elapsed:  6.5min\n",
      "[Parallel(n_jobs=4)]: Done 108 out of 108 | elapsed:  6.6min finished\n",
      "C:\\Users\\minol\\AppData\\Local\\Programs\\Python\\Python38\\lib\\site-packages\\sklearn\\mixture\\_base.py:265: ConvergenceWarning: Initialization 1 did not converge. Try different init parameters, or increase max_iter, tol or check for degenerate data.\n",
      "  warnings.warn('Initialization %d did not converge. '\n",
      "[Parallel(n_jobs=4)]: Using backend LokyBackend with 4 concurrent workers.\n",
      "[Parallel(n_jobs=4)]: Batch computation too fast (0.0860s.) Setting batch_size=2.\n",
      "Fitting 3 folds for each of 36 candidates, totalling 108 fits\n",
      "[Parallel(n_jobs=4)]: Done   5 tasks      | elapsed:    2.7s\n",
      "[Parallel(n_jobs=4)]: Batch computation too slow (47.6065s.) Setting batch_size=1.\n",
      "[Parallel(n_jobs=4)]: Done  12 tasks      | elapsed:  1.1min\n",
      "[Parallel(n_jobs=4)]: Done  23 tasks      | elapsed:  2.2min\n",
      "[Parallel(n_jobs=4)]: Done  32 tasks      | elapsed:  3.9min\n",
      "[Parallel(n_jobs=4)]: Done  41 tasks      | elapsed:  4.3min\n",
      "[Parallel(n_jobs=4)]: Done  50 tasks      | elapsed:  5.5min\n",
      "[Parallel(n_jobs=4)]: Done  61 tasks      | elapsed:  5.8min\n",
      "[Parallel(n_jobs=4)]: Done  72 tasks      | elapsed:  6.3min\n",
      "[Parallel(n_jobs=4)]: Done  85 tasks      | elapsed:  6.4min\n",
      "[Parallel(n_jobs=4)]: Done  98 tasks      | elapsed:  6.5min\n",
      "[Parallel(n_jobs=4)]: Done 108 out of 108 | elapsed:  6.9min finished\n",
      "C:\\Users\\minol\\AppData\\Local\\Programs\\Python\\Python38\\lib\\site-packages\\sklearn\\mixture\\_base.py:265: ConvergenceWarning: Initialization 1 did not converge. Try different init parameters, or increase max_iter, tol or check for degenerate data.\n",
      "  warnings.warn('Initialization %d did not converge. '\n",
      "[Parallel(n_jobs=4)]: Using backend LokyBackend with 4 concurrent workers.\n",
      "Fitting 3 folds for each of 36 candidates, totalling 108 fits\n",
      "[Parallel(n_jobs=4)]: Batch computation too fast (0.0540s.) Setting batch_size=2.\n",
      "[Parallel(n_jobs=4)]: Done   5 tasks      | elapsed:    2.6s\n",
      "[Parallel(n_jobs=4)]: Batch computation too slow (47.7505s.) Setting batch_size=1.\n",
      "[Parallel(n_jobs=4)]: Done  12 tasks      | elapsed:  1.1min\n",
      "[Parallel(n_jobs=4)]: Done  23 tasks      | elapsed:  2.2min\n",
      "[Parallel(n_jobs=4)]: Done  32 tasks      | elapsed:  3.9min\n",
      "[Parallel(n_jobs=4)]: Done  41 tasks      | elapsed:  4.1min\n",
      "[Parallel(n_jobs=4)]: Done  50 tasks      | elapsed:  5.4min\n",
      "[Parallel(n_jobs=4)]: Done  61 tasks      | elapsed:  5.5min\n",
      "[Parallel(n_jobs=4)]: Done  72 tasks      | elapsed:  5.7min\n",
      "[Parallel(n_jobs=4)]: Done  85 tasks      | elapsed:  5.8min\n",
      "[Parallel(n_jobs=4)]: Done  98 tasks      | elapsed:  5.9min\n",
      "[Parallel(n_jobs=4)]: Done 108 out of 108 | elapsed:  6.5min finished\n",
      "C:\\Users\\minol\\AppData\\Local\\Programs\\Python\\Python38\\lib\\site-packages\\sklearn\\mixture\\_base.py:265: ConvergenceWarning: Initialization 1 did not converge. Try different init parameters, or increase max_iter, tol or check for degenerate data.\n",
      "  warnings.warn('Initialization %d did not converge. '\n",
      "Fitting 3 folds for each of 36 candidates, totalling 108 fits\n",
      "[Parallel(n_jobs=4)]: Using backend LokyBackend with 4 concurrent workers.\n",
      "[Parallel(n_jobs=4)]: Batch computation too fast (0.0610s.) Setting batch_size=2.\n",
      "[Parallel(n_jobs=4)]: Done   5 tasks      | elapsed:    2.6s\n",
      "[Parallel(n_jobs=4)]: Batch computation too slow (47.9755s.) Setting batch_size=1.\n",
      "[Parallel(n_jobs=4)]: Done  12 tasks      | elapsed:  1.1min\n",
      "[Parallel(n_jobs=4)]: Done  23 tasks      | elapsed:  2.2min\n",
      "[Parallel(n_jobs=4)]: Done  32 tasks      | elapsed:  4.0min\n",
      "[Parallel(n_jobs=4)]: Done  41 tasks      | elapsed:  4.3min\n",
      "[Parallel(n_jobs=4)]: Done  50 tasks      | elapsed:  5.7min\n",
      "[Parallel(n_jobs=4)]: Done  61 tasks      | elapsed:  6.0min\n",
      "[Parallel(n_jobs=4)]: Done  72 tasks      | elapsed:  6.2min\n",
      "[Parallel(n_jobs=4)]: Done  85 tasks      | elapsed:  6.4min\n",
      "[Parallel(n_jobs=4)]: Done  98 tasks      | elapsed:  6.4min\n",
      "[Parallel(n_jobs=4)]: Done 108 out of 108 | elapsed:  6.9min finished\n",
      "C:\\Users\\minol\\AppData\\Local\\Programs\\Python\\Python38\\lib\\site-packages\\sklearn\\mixture\\_base.py:265: ConvergenceWarning: Initialization 1 did not converge. Try different init parameters, or increase max_iter, tol or check for degenerate data.\n",
      "  warnings.warn('Initialization %d did not converge. '\n",
      "[Parallel(n_jobs=4)]: Using backend LokyBackend with 4 concurrent workers.\n",
      "[Parallel(n_jobs=4)]: Batch computation too fast (0.0450s.) Setting batch_size=2.\n",
      "Fitting 3 folds for each of 36 candidates, totalling 108 fits\n",
      "[Parallel(n_jobs=4)]: Done   5 tasks      | elapsed:    2.6s\n",
      "[Parallel(n_jobs=4)]: Batch computation too slow (47.4485s.) Setting batch_size=1.\n",
      "[Parallel(n_jobs=4)]: Done  12 tasks      | elapsed:  1.1min\n",
      "[Parallel(n_jobs=4)]: Done  23 tasks      | elapsed:  2.1min\n",
      "[Parallel(n_jobs=4)]: Done  32 tasks      | elapsed:  3.9min\n",
      "[Parallel(n_jobs=4)]: Done  41 tasks      | elapsed:  4.2min\n",
      "[Parallel(n_jobs=4)]: Done  50 tasks      | elapsed:  5.9min\n",
      "[Parallel(n_jobs=4)]: Done  61 tasks      | elapsed:  6.1min\n",
      "[Parallel(n_jobs=4)]: Done  72 tasks      | elapsed:  6.3min\n",
      "[Parallel(n_jobs=4)]: Done  85 tasks      | elapsed:  6.5min\n",
      "[Parallel(n_jobs=4)]: Done  98 tasks      | elapsed:  6.5min\n",
      "[Parallel(n_jobs=4)]: Done 108 out of 108 | elapsed:  6.6min finished\n",
      "C:\\Users\\minol\\AppData\\Local\\Programs\\Python\\Python38\\lib\\site-packages\\sklearn\\mixture\\_base.py:265: ConvergenceWarning: Initialization 1 did not converge. Try different init parameters, or increase max_iter, tol or check for degenerate data.\n",
      "  warnings.warn('Initialization %d did not converge. '\n"
     ]
    }
   ],
   "source": [
    "grid_adjusted_rand_score=make_scorer(adjusted_rand_score)\n",
    "Niter = 5 #numero particiones\n",
    "adrs =np.zeros(Niter)#arreglo para guardar acierto\n",
    "best_estimators = []#mejor metodo por iteracion\n",
    "best_parameters = []#mejor metodo por iteracion\n",
    "for j in range(Niter):\n",
    "    X_train, X_test, y_train, y_test = train_test_split(X,y,test_size=0.2, stratify=y)\n",
    "    grid_search = GridSearchCV(method, parameters,cv=3,verbose=10,scoring=grid_adjusted_rand_score,n_jobs=4)\n",
    "    \n",
    "    grid_search.fit(X_train,y_train)\n",
    "    \n",
    "    y_pred = grid_search.best_estimator_.predict(X_test)\n",
    "    \n",
    "    best_estimators.append(grid_search.best_estimator_)\n",
    "    best_parameters.append(grid_search.best_params_)\n",
    "\n",
    "    adrs[j]=adjusted_rand_score(y_pred, y_test)"
   ]
  },
  {
   "cell_type": "code",
   "execution_count": 5,
   "metadata": {},
   "outputs": [
    {
     "output_type": "stream",
     "name": "stdout",
     "text": [
      "GLASS Adjusted rand score:0.14055270332982334+-0.052517092547343006\n"
     ]
    }
   ],
   "source": [
    "me=np.mean(adrs)\n",
    "std=np.std(adrs)\n",
    "print('GLASS Adjusted rand score:'+str(me)+'+-'+str(std))"
   ]
  },
  {
   "cell_type": "code",
   "execution_count": 6,
   "metadata": {},
   "outputs": [
    {
     "output_type": "stream",
     "name": "stdout",
     "text": [
      "Shape: (150, 4)\ncomponents: 3\n"
     ]
    }
   ],
   "source": [
    "#IRIS\n",
    "iris = fetch_openml('iris')\n",
    "X=iris.data\n",
    "y=iris.target\n",
    "components=np.unique(y).shape[0]\n",
    "print('Shape:',X.shape)\n",
    "print('components:',components)"
   ]
  },
  {
   "cell_type": "code",
   "execution_count": 7,
   "metadata": {},
   "outputs": [],
   "source": [
    "montecarlo=200\n",
    "gamma=0.01\n",
    "steps = [('rff', RBFSampler(gamma=gamma,n_components=montecarlo,random_state=48)), \n",
    "            ('cluster', mixture.BayesianGaussianMixture(n_components=components,random_state=48))] #clasificador \n",
    "parameters ={'rff__gamma':[1e-8,1e-6,1e-3,1e-2,1,2],\n",
    "             'rff__n_components':np.arange(2,1202,200)\n",
    "             }\n",
    "method = Pipeline(steps)"
   ]
  },
  {
   "cell_type": "code",
   "execution_count": 8,
   "metadata": {},
   "outputs": [
    {
     "output_type": "stream",
     "name": "stdout",
     "text": [
      "Fitting 3 folds for each of 36 candidates, totalling 108 fits\n",
      "[Parallel(n_jobs=4)]: Using backend LokyBackend with 4 concurrent workers.\n",
      "[Parallel(n_jobs=4)]: Done   5 tasks      | elapsed:    2.6s\n",
      "[Parallel(n_jobs=4)]: Done  10 tasks      | elapsed:   18.7s\n",
      "[Parallel(n_jobs=4)]: Done  17 tasks      | elapsed:   55.4s\n",
      "[Parallel(n_jobs=4)]: Done  24 tasks      | elapsed:  1.3min\n",
      "[Parallel(n_jobs=4)]: Done  33 tasks      | elapsed:  2.2min\n",
      "[Parallel(n_jobs=4)]: Done  42 tasks      | elapsed:  2.3min\n",
      "[Parallel(n_jobs=4)]: Done  53 tasks      | elapsed:  2.6min\n",
      "[Parallel(n_jobs=4)]: Done  64 tasks      | elapsed:  2.7min\n",
      "[Parallel(n_jobs=4)]: Done  77 tasks      | elapsed:  2.8min\n",
      "[Parallel(n_jobs=4)]: Done  90 tasks      | elapsed:  2.9min\n",
      "[Parallel(n_jobs=4)]: Done 108 out of 108 | elapsed:  2.9min finished\n",
      "C:\\Users\\minol\\AppData\\Local\\Programs\\Python\\Python38\\lib\\site-packages\\sklearn\\mixture\\_base.py:265: ConvergenceWarning: Initialization 1 did not converge. Try different init parameters, or increase max_iter, tol or check for degenerate data.\n",
      "  warnings.warn('Initialization %d did not converge. '\n",
      "[Parallel(n_jobs=4)]: Using backend LokyBackend with 4 concurrent workers.\n",
      "[Parallel(n_jobs=4)]: Batch computation too fast (0.0720s.) Setting batch_size=2.\n",
      "Fitting 3 folds for each of 36 candidates, totalling 108 fits\n",
      "[Parallel(n_jobs=4)]: Done   5 tasks      | elapsed:    1.5s\n",
      "[Parallel(n_jobs=4)]: Batch computation too slow (25.1188s.) Setting batch_size=1.\n",
      "[Parallel(n_jobs=4)]: Done  12 tasks      | elapsed:   34.2s\n",
      "[Parallel(n_jobs=4)]: Done  23 tasks      | elapsed:  1.1min\n",
      "[Parallel(n_jobs=4)]: Done  32 tasks      | elapsed:  2.1min\n",
      "[Parallel(n_jobs=4)]: Done  41 tasks      | elapsed:  2.1min\n",
      "[Parallel(n_jobs=4)]: Done  50 tasks      | elapsed:  2.5min\n",
      "[Parallel(n_jobs=4)]: Done  61 tasks      | elapsed:  2.6min\n",
      "[Parallel(n_jobs=4)]: Done  72 tasks      | elapsed:  2.7min\n",
      "[Parallel(n_jobs=4)]: Done  85 tasks      | elapsed:  2.8min\n",
      "[Parallel(n_jobs=4)]: Done  98 tasks      | elapsed:  2.8min\n",
      "[Parallel(n_jobs=4)]: Done 108 out of 108 | elapsed:  2.9min finished\n",
      "Fitting 3 folds for each of 36 candidates, totalling 108 fits\n",
      "[Parallel(n_jobs=4)]: Using backend LokyBackend with 4 concurrent workers.\n",
      "[Parallel(n_jobs=4)]: Batch computation too fast (0.0690s.) Setting batch_size=2.\n",
      "[Parallel(n_jobs=4)]: Done   5 tasks      | elapsed:    1.4s\n",
      "[Parallel(n_jobs=4)]: Batch computation too slow (24.9528s.) Setting batch_size=1.\n",
      "[Parallel(n_jobs=4)]: Done  12 tasks      | elapsed:   34.4s\n",
      "[Parallel(n_jobs=4)]: Done  23 tasks      | elapsed:  1.1min\n",
      "[Parallel(n_jobs=4)]: Done  32 tasks      | elapsed:  2.1min\n",
      "[Parallel(n_jobs=4)]: Done  41 tasks      | elapsed:  2.3min\n",
      "[Parallel(n_jobs=4)]: Done  50 tasks      | elapsed:  3.2min\n",
      "[Parallel(n_jobs=4)]: Done  61 tasks      | elapsed:  3.3min\n",
      "[Parallel(n_jobs=4)]: Done  72 tasks      | elapsed:  3.3min\n",
      "[Parallel(n_jobs=4)]: Done  85 tasks      | elapsed:  3.4min\n",
      "[Parallel(n_jobs=4)]: Done  98 tasks      | elapsed:  3.5min\n",
      "[Parallel(n_jobs=4)]: Done 108 out of 108 | elapsed:  3.7min finished\n",
      "Fitting 3 folds for each of 36 candidates, totalling 108 fits\n",
      "[Parallel(n_jobs=4)]: Using backend LokyBackend with 4 concurrent workers.\n",
      "[Parallel(n_jobs=4)]: Batch computation too fast (0.0220s.) Setting batch_size=2.\n",
      "[Parallel(n_jobs=4)]: Done   5 tasks      | elapsed:    1.3s\n",
      "[Parallel(n_jobs=4)]: Batch computation too slow (25.2308s.) Setting batch_size=1.\n",
      "[Parallel(n_jobs=4)]: Done  12 tasks      | elapsed:   34.6s\n",
      "[Parallel(n_jobs=4)]: Done  23 tasks      | elapsed:  1.1min\n",
      "[Parallel(n_jobs=4)]: Done  32 tasks      | elapsed:  2.1min\n",
      "[Parallel(n_jobs=4)]: Done  41 tasks      | elapsed:  2.3min\n",
      "[Parallel(n_jobs=4)]: Done  50 tasks      | elapsed:  3.0min\n",
      "[Parallel(n_jobs=4)]: Done  61 tasks      | elapsed:  3.0min\n",
      "[Parallel(n_jobs=4)]: Done  72 tasks      | elapsed:  3.1min\n",
      "[Parallel(n_jobs=4)]: Done  85 tasks      | elapsed:  3.1min\n",
      "[Parallel(n_jobs=4)]: Done  98 tasks      | elapsed:  3.2min\n",
      "[Parallel(n_jobs=4)]: Done 108 out of 108 | elapsed:  3.2min finished\n",
      "C:\\Users\\minol\\AppData\\Local\\Programs\\Python\\Python38\\lib\\site-packages\\sklearn\\mixture\\_base.py:265: ConvergenceWarning: Initialization 1 did not converge. Try different init parameters, or increase max_iter, tol or check for degenerate data.\n",
      "  warnings.warn('Initialization %d did not converge. '\n",
      "[Parallel(n_jobs=4)]: Using backend LokyBackend with 4 concurrent workers.\n",
      "[Parallel(n_jobs=4)]: Batch computation too fast (0.0620s.) Setting batch_size=2.\n",
      "Fitting 3 folds for each of 36 candidates, totalling 108 fits\n",
      "[Parallel(n_jobs=4)]: Done   5 tasks      | elapsed:    1.4s\n",
      "[Parallel(n_jobs=4)]: Batch computation too slow (25.9569s.) Setting batch_size=1.\n",
      "[Parallel(n_jobs=4)]: Done  12 tasks      | elapsed:   35.4s\n",
      "[Parallel(n_jobs=4)]: Done  23 tasks      | elapsed:  1.2min\n",
      "[Parallel(n_jobs=4)]: Done  32 tasks      | elapsed:  2.1min\n",
      "[Parallel(n_jobs=4)]: Done  41 tasks      | elapsed:  2.4min\n",
      "[Parallel(n_jobs=4)]: Done  50 tasks      | elapsed:  3.0min\n",
      "[Parallel(n_jobs=4)]: Done  61 tasks      | elapsed:  3.1min\n",
      "[Parallel(n_jobs=4)]: Done  72 tasks      | elapsed:  3.3min\n",
      "[Parallel(n_jobs=4)]: Done  85 tasks      | elapsed:  3.4min\n",
      "[Parallel(n_jobs=4)]: Done  98 tasks      | elapsed:  3.5min\n",
      "[Parallel(n_jobs=4)]: Done 108 out of 108 | elapsed:  3.7min finished\n"
     ]
    }
   ],
   "source": [
    "grid_adjusted_rand_score=make_scorer(adjusted_rand_score)\n",
    "Niter = 5 #numero particiones\n",
    "adrs =np.zeros(Niter)#arreglo para guardar acierto\n",
    "best_estimators = []#mejor metodo por iteracion\n",
    "best_parameters = []#mejor metodo por iteracion\n",
    "for j in range(Niter):\n",
    "    X_train, X_test, y_train, y_test = train_test_split(X,y,test_size=0.2, stratify=y)\n",
    "    grid_search = GridSearchCV(method, parameters,cv=3,verbose=10,scoring=grid_adjusted_rand_score,n_jobs=4)\n",
    "    \n",
    "    grid_search.fit(X_train,y_train)\n",
    "    \n",
    "    y_pred = grid_search.best_estimator_.predict(X_test)\n",
    "    \n",
    "    best_estimators.append(grid_search.best_estimator_)\n",
    "    best_parameters.append(grid_search.best_params_)\n",
    "\n",
    "    adrs[j]=adjusted_rand_score(y_pred, y_test)"
   ]
  },
  {
   "cell_type": "code",
   "execution_count": 9,
   "metadata": {},
   "outputs": [
    {
     "output_type": "stream",
     "name": "stdout",
     "text": [
      "IRIS Adjusted rand score:0.5361084795225104+-0.09413677767400576\n"
     ]
    }
   ],
   "source": [
    "me=np.mean(adrs)\n",
    "std=np.std(adrs)\n",
    "print('IRIS Adjusted rand score:'+str(me)+'+-'+str(std))"
   ]
  },
  {
   "cell_type": "code",
   "execution_count": null,
   "metadata": {},
   "outputs": [],
   "source": []
  }
 ]
}